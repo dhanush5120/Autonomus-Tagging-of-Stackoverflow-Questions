{
 "cells": [
  {
   "cell_type": "code",
   "execution_count": 1,
   "metadata": {},
   "outputs": [],
   "source": [
    "import pandas as pd\n",
    "import dill\n",
    "import re\n",
    "\n",
    "classifier = dill.load(open('model.sav', 'rb'))\n",
    "tfvectorizer = dill.load(open('tfidf.sav', 'rb'))\n",
    "vectorizer = dill.load(open('bow.sav', 'rb'))"
   ]
  },
  {
   "cell_type": "code",
   "execution_count": 2,
   "metadata": {},
   "outputs": [],
   "source": [
    "import re\n",
    "from nltk.corpus import stopwords\n",
    "from nltk.stem.snowball import SnowballStemmer\n",
    "from nltk.stem.wordnet import WordNetLemmatizer\n",
    "def clean(s):\n",
    "    s=str(s)\n",
    "    s=s.lower()\n",
    "    html=re.compile('<.*?>')   #removing html tags\n",
    "    cleaned = re.sub(html,' ',s)\n",
    "    fil=[]\n",
    "    for i in cleaned.split():\n",
    "        if i!='c++':\n",
    "            cleaned=re.sub('[^A-Za-z]+', '', i)\n",
    "            fil.append(cleaned)\n",
    "        else:\n",
    "            fil.append(i)\n",
    "    return fil\n",
    "stop=set(stopwords.words('english'))\n",
    "sno=SnowballStemmer('english')\n",
    "def stem(s):\n",
    "    fil=[]\n",
    "    for _ in s:\n",
    "        if _ not in stop:\n",
    "            s=(sno.stem(_).encode('utf8'))\n",
    "            fil.append(s)\n",
    "    s=b' '.join(fil)\n",
    "    return s"
   ]
  },
  {
   "cell_type": "code",
   "execution_count": 7,
   "metadata": {},
   "outputs": [],
   "source": [
    "from tkinter import *\n",
    "from PIL import ImageTk, Image\n",
    "import os\n",
    "root = Tk()\n",
    "\n",
    "root.title(\"Autonomus Tagging Of Stackoverflow Questions\")\n",
    "\n",
    "\n",
    "img = ImageTk.PhotoImage(Image.open(\"index.png\"))\n",
    "panel = Label(root, image = img)\n",
    "panel.image = img\n",
    "panel.grid(row = 0, column = 0)\n",
    "#panel.pack()\n",
    "\n",
    "img1 = ImageTk.PhotoImage(Image.open(\"st.jpg\"))\n",
    "\n",
    "label1 = Label(root,image = img1)\n",
    "label1.image = img1\n",
    "label1.grid(row = 1, column = 0)\n",
    "#label1.pack()\n",
    "label2 = Label(root, text = \"Ask Me a Question!!!\",font = \"Arial 20 bold\", fg = 'black')\n",
    "label2.grid(row = 2, column = 0)\n",
    "#label2.pack()\n",
    "\n",
    "ques = StringVar()\n",
    "quesEntered = Entry(root, width = 40, textvariable = ques,font=\"Arial 18 bold\")\n",
    "quesEntered.grid(column = 0, row = 3, padx = 3, pady = 3)\n",
    "#quesEntered.pack()\n",
    "\n",
    "def pred():\n",
    "    t = ques.get()\n",
    "    l=[]\n",
    "    l.append(stem(clean(t)))\n",
    "    x=tfvectorizer.transform(l)\n",
    "    t=classifier.predict(x)\n",
    "    k=vectorizer.inverse_transform(t)\n",
    "    label3 = Label(root,text = re.sub('[^A-Za-z#+-]+', ' ', str(k[0])), font = \"Arial 20 bold\")\n",
    "    label3.grid(column =0, row = 5, padx = 3, pady = 3)\n",
    "    #label3.pack()\n",
    "\n",
    "    \n",
    "button = Button(root,text = \"Predict Tag\", font = \"Arial 18 bold\", command = pred)\n",
    "button.grid(column= 0, row = 4, padx = 3, pady = 3)\n",
    "#button.pack()\n",
    "\n",
    "\n",
    "root.mainloop()\n"
   ]
  },
  {
   "cell_type": "code",
   "execution_count": null,
   "metadata": {},
   "outputs": [],
   "source": []
  },
  {
   "cell_type": "code",
   "execution_count": null,
   "metadata": {},
   "outputs": [],
   "source": []
  }
 ],
 "metadata": {
  "kernelspec": {
   "display_name": "Python 3",
   "language": "python",
   "name": "python3"
  },
  "language_info": {
   "codemirror_mode": {
    "name": "ipython",
    "version": 3
   },
   "file_extension": ".py",
   "mimetype": "text/x-python",
   "name": "python",
   "nbconvert_exporter": "python",
   "pygments_lexer": "ipython3",
   "version": "3.6.10"
  }
 },
 "nbformat": 4,
 "nbformat_minor": 2
}
