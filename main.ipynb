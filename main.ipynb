{
 "cells": [
  {
   "cell_type": "markdown",
   "metadata": {},
   "source": [
    "# Loading Data"
   ]
  },
  {
   "cell_type": "code",
   "execution_count": 1,
   "metadata": {},
   "outputs": [
    {
     "data": {
      "text/html": [
       "<div>\n",
       "<style scoped>\n",
       "    .dataframe tbody tr th:only-of-type {\n",
       "        vertical-align: middle;\n",
       "    }\n",
       "\n",
       "    .dataframe tbody tr th {\n",
       "        vertical-align: top;\n",
       "    }\n",
       "\n",
       "    .dataframe thead th {\n",
       "        text-align: right;\n",
       "    }\n",
       "</style>\n",
       "<table border=\"1\" class=\"dataframe\">\n",
       "  <thead>\n",
       "    <tr style=\"text-align: right;\">\n",
       "      <th></th>\n",
       "      <th>title</th>\n",
       "      <th>tags</th>\n",
       "    </tr>\n",
       "  </thead>\n",
       "  <tbody>\n",
       "    <tr>\n",
       "      <th>0</th>\n",
       "      <td>How to draw a stacked dotplot in R?</td>\n",
       "      <td>['r']</td>\n",
       "    </tr>\n",
       "    <tr>\n",
       "      <th>1</th>\n",
       "      <td>mysql select all records where a datetime fiel...</td>\n",
       "      <td>['php', 'mysql']</td>\n",
       "    </tr>\n",
       "  </tbody>\n",
       "</table>\n",
       "</div>"
      ],
      "text/plain": [
       "                                               title              tags\n",
       "0                How to draw a stacked dotplot in R?             ['r']\n",
       "1  mysql select all records where a datetime fiel...  ['php', 'mysql']"
      ]
     },
     "execution_count": 1,
     "metadata": {},
     "output_type": "execute_result"
    }
   ],
   "source": [
    "import pandas as pd\n",
    "df=pd.read_csv('stackoverflowtags.csv')\n",
    "df.head(2)"
   ]
  },
  {
   "cell_type": "code",
   "execution_count": 2,
   "metadata": {},
   "outputs": [
    {
     "data": {
      "text/plain": [
       "Conversion failed when converting date and/or time from character string               3\n",
       "No rule to make target                                                                 2\n",
       "Object reference not set to an instance of an object                                   2\n",
       "System.NullReferenceException: Object reference not set to an instance of an object    2\n",
       "c# and excel automation - ending the running instance                                  2\n",
       "                                                                                      ..\n",
       "cannot implicitly convert type 'int' to 'string' c#                                    1\n",
       "Non-ajax GET/POST using jQuery (plugin?)                                               1\n",
       "How to get/find an object by property value in a list                                  1\n",
       "Set MySQL Variables with MySQLi (not PHP variables)                                    1\n",
       "Pandas version of rbind                                                                1\n",
       "Name: title, Length: 99984, dtype: int64"
      ]
     },
     "execution_count": 2,
     "metadata": {},
     "output_type": "execute_result"
    }
   ],
   "source": [
    "df.title.value_counts()"
   ]
  },
  {
   "cell_type": "markdown",
   "metadata": {},
   "source": [
    "# Droping Duplicates"
   ]
  },
  {
   "cell_type": "code",
   "execution_count": 3,
   "metadata": {},
   "outputs": [
    {
     "data": {
      "text/plain": [
       "Where is the startup method of a WCF Service?                                                                                        1\n",
       "getSelection() not working in IE                                                                                                     1\n",
       "Failed to lookup view \"error\" in views directory using handlebars                                                                    1\n",
       "GWT JSNI return a js-function                                                                                                        1\n",
       "jQuery post div content and php echo                                                                                                 1\n",
       "                                                                                                                                    ..\n",
       "Set MySQL Variables with MySQLi (not PHP variables)                                                                                  1\n",
       "Generating (pseudo)random alpha-numeric strings                                                                                      1\n",
       "Generics Hell: Can I construct a TypeLiteral<Set<T>> using generics?                                                                 1\n",
       "Unsupported Configuration: This file is set to build for a version older than the deployment target. Functionality may be limited    1\n",
       "Pandas version of rbind                                                                                                              1\n",
       "Name: title, Length: 99984, dtype: int64"
      ]
     },
     "execution_count": 3,
     "metadata": {},
     "output_type": "execute_result"
    }
   ],
   "source": [
    "df.title=df.title.drop_duplicates(keep='first')\n",
    "df.title.value_counts()"
   ]
  },
  {
   "cell_type": "markdown",
   "metadata": {},
   "source": [
    "# Text Cleaning"
   ]
  },
  {
   "cell_type": "code",
   "execution_count": 4,
   "metadata": {},
   "outputs": [
    {
     "data": {
      "text/plain": [
       "['how', 'to', 'draw', 'a', 'stacked', 'dotplot', 'in', 'r']"
      ]
     },
     "execution_count": 4,
     "metadata": {},
     "output_type": "execute_result"
    }
   ],
   "source": [
    "import re\n",
    "from nltk.corpus import stopwords\n",
    "from nltk.stem.snowball import SnowballStemmer\n",
    "from nltk.stem.wordnet import WordNetLemmatizer\n",
    "def clean(s):\n",
    "    s=str(s)\n",
    "    s=s.lower()\n",
    "    html=re.compile('<.*?>')   #removing html tags\n",
    "    cleaned = re.sub(html,' ',s)\n",
    "    fil=[]\n",
    "    for i in cleaned.split():\n",
    "        if i!='c++':\n",
    "            cleaned=re.sub('[^A-Za-z]', '', i) #search the pattern !(A-Z & a-z) and replace with ''\n",
    "            fil.append(cleaned)\n",
    "        else:\n",
    "            fil.append(i)\n",
    "    return fil\n",
    "stop=set(stopwords.words('english'))\n",
    "sno=SnowballStemmer('english')\n",
    "clean(df.title[0])"
   ]
  },
  {
   "cell_type": "markdown",
   "metadata": {},
   "source": [
    "# Stemming"
   ]
  },
  {
   "cell_type": "code",
   "execution_count": 5,
   "metadata": {},
   "outputs": [],
   "source": [
    "def stem(s):\n",
    "    fil=[]\n",
    "    for i in s:\n",
    "        if i not in stop:\n",
    "            s=(sno.stem(i).encode('utf8'))\n",
    "            fil.append(s)\n",
    "    s=b' '.join(fil)\n",
    "    return s"
   ]
  },
  {
   "cell_type": "code",
   "execution_count": 6,
   "metadata": {},
   "outputs": [],
   "source": [
    "l=[]\n",
    "for j in df.title:\n",
    "    l.append(stem(clean(j)))\n",
    "df['cleanQues'] = l"
   ]
  },
  {
   "cell_type": "code",
   "execution_count": 7,
   "metadata": {},
   "outputs": [],
   "source": [
    "import re\n",
    "l=[]\n",
    "for i in df.tags:\n",
    "    l.append(re.sub('[^A-Za-z#+-]', ' ', i)) #search the pattern !(A-Z & a-z) and replace with ''\n",
    "df['cleanTags']=l"
   ]
  },
  {
   "cell_type": "markdown",
   "metadata": {},
   "source": [
    "# After Cleaning and Stemming"
   ]
  },
  {
   "cell_type": "code",
   "execution_count": 8,
   "metadata": {},
   "outputs": [
    {
     "data": {
      "text/html": [
       "<div>\n",
       "<style scoped>\n",
       "    .dataframe tbody tr th:only-of-type {\n",
       "        vertical-align: middle;\n",
       "    }\n",
       "\n",
       "    .dataframe tbody tr th {\n",
       "        vertical-align: top;\n",
       "    }\n",
       "\n",
       "    .dataframe thead th {\n",
       "        text-align: right;\n",
       "    }\n",
       "</style>\n",
       "<table border=\"1\" class=\"dataframe\">\n",
       "  <thead>\n",
       "    <tr style=\"text-align: right;\">\n",
       "      <th></th>\n",
       "      <th>title</th>\n",
       "      <th>tags</th>\n",
       "      <th>cleanQues</th>\n",
       "      <th>cleanTags</th>\n",
       "    </tr>\n",
       "  </thead>\n",
       "  <tbody>\n",
       "    <tr>\n",
       "      <th>0</th>\n",
       "      <td>How to draw a stacked dotplot in R?</td>\n",
       "      <td>['r']</td>\n",
       "      <td>b'draw stack dotplot r'</td>\n",
       "      <td>r</td>\n",
       "    </tr>\n",
       "    <tr>\n",
       "      <th>1</th>\n",
       "      <td>mysql select all records where a datetime fiel...</td>\n",
       "      <td>['php', 'mysql']</td>\n",
       "      <td>b'mysql select record datetim field less speci...</td>\n",
       "      <td>php    mysql</td>\n",
       "    </tr>\n",
       "    <tr>\n",
       "      <th>2</th>\n",
       "      <td>How to terminate windows phone 8.1 app</td>\n",
       "      <td>['c#']</td>\n",
       "      <td>b'termin window phone  app'</td>\n",
       "      <td>c#</td>\n",
       "    </tr>\n",
       "    <tr>\n",
       "      <th>3</th>\n",
       "      <td>get current time in a specific country via jquery</td>\n",
       "      <td>['javascript', 'jquery']</td>\n",
       "      <td>b'get current time specif countri via jqueri'</td>\n",
       "      <td>javascript    jquery</td>\n",
       "    </tr>\n",
       "    <tr>\n",
       "      <th>4</th>\n",
       "      <td>Configuring Tomcat to Use SSL</td>\n",
       "      <td>['java']</td>\n",
       "      <td>b'configur tomcat use ssl'</td>\n",
       "      <td>java</td>\n",
       "    </tr>\n",
       "    <tr>\n",
       "      <th>5</th>\n",
       "      <td>Awesome nested set plugin - how to add new chi...</td>\n",
       "      <td>['ruby-on-rails']</td>\n",
       "      <td>b'awesom nest set plugin  add new children tre...</td>\n",
       "      <td>ruby-on-rails</td>\n",
       "    </tr>\n",
       "    <tr>\n",
       "      <th>6</th>\n",
       "      <td>How to create map from JSON response in Ruby o...</td>\n",
       "      <td>['ruby', 'ruby-on-rails-3', 'json']</td>\n",
       "      <td>b'creat map json respons rubi rail '</td>\n",
       "      <td>ruby    ruby-on-rails-     json</td>\n",
       "    </tr>\n",
       "    <tr>\n",
       "      <th>7</th>\n",
       "      <td>rspec test if method is called</td>\n",
       "      <td>['ruby']</td>\n",
       "      <td>b'rspec test method call'</td>\n",
       "      <td>ruby</td>\n",
       "    </tr>\n",
       "    <tr>\n",
       "      <th>8</th>\n",
       "      <td>SpringBoot Catalina LifeCycle Exception</td>\n",
       "      <td>['java', 'spring', 'spring-mvc']</td>\n",
       "      <td>b'springboot catalina lifecycl except'</td>\n",
       "      <td>java    spring    spring-mvc</td>\n",
       "    </tr>\n",
       "    <tr>\n",
       "      <th>9</th>\n",
       "      <td>How to import data from excel to mysql databas...</td>\n",
       "      <td>['php', 'codeigniter']</td>\n",
       "      <td>b'import data excel mysql databas use php'</td>\n",
       "      <td>php    codeigniter</td>\n",
       "    </tr>\n",
       "  </tbody>\n",
       "</table>\n",
       "</div>"
      ],
      "text/plain": [
       "                                               title  \\\n",
       "0                How to draw a stacked dotplot in R?   \n",
       "1  mysql select all records where a datetime fiel...   \n",
       "2             How to terminate windows phone 8.1 app   \n",
       "3  get current time in a specific country via jquery   \n",
       "4                      Configuring Tomcat to Use SSL   \n",
       "5  Awesome nested set plugin - how to add new chi...   \n",
       "6  How to create map from JSON response in Ruby o...   \n",
       "7                     rspec test if method is called   \n",
       "8            SpringBoot Catalina LifeCycle Exception   \n",
       "9  How to import data from excel to mysql databas...   \n",
       "\n",
       "                                  tags  \\\n",
       "0                                ['r']   \n",
       "1                     ['php', 'mysql']   \n",
       "2                               ['c#']   \n",
       "3             ['javascript', 'jquery']   \n",
       "4                             ['java']   \n",
       "5                    ['ruby-on-rails']   \n",
       "6  ['ruby', 'ruby-on-rails-3', 'json']   \n",
       "7                             ['ruby']   \n",
       "8     ['java', 'spring', 'spring-mvc']   \n",
       "9               ['php', 'codeigniter']   \n",
       "\n",
       "                                           cleanQues  \\\n",
       "0                            b'draw stack dotplot r'   \n",
       "1  b'mysql select record datetim field less speci...   \n",
       "2                        b'termin window phone  app'   \n",
       "3      b'get current time specif countri via jqueri'   \n",
       "4                         b'configur tomcat use ssl'   \n",
       "5  b'awesom nest set plugin  add new children tre...   \n",
       "6               b'creat map json respons rubi rail '   \n",
       "7                          b'rspec test method call'   \n",
       "8             b'springboot catalina lifecycl except'   \n",
       "9         b'import data excel mysql databas use php'   \n",
       "\n",
       "                             cleanTags  \n",
       "0                                  r    \n",
       "1                       php    mysql    \n",
       "2                                 c#    \n",
       "3               javascript    jquery    \n",
       "4                               java    \n",
       "5                      ruby-on-rails    \n",
       "6    ruby    ruby-on-rails-     json    \n",
       "7                               ruby    \n",
       "8       java    spring    spring-mvc    \n",
       "9                 php    codeigniter    "
      ]
     },
     "execution_count": 8,
     "metadata": {},
     "output_type": "execute_result"
    }
   ],
   "source": [
    "df.head(10)"
   ]
  },
  {
   "cell_type": "code",
   "execution_count": 9,
   "metadata": {},
   "outputs": [],
   "source": [
    "d=pd.DataFrame()\n",
    "d['text']=df.cleanQues\n",
    "d['tags']=df.cleanTags\n",
    "d.to_csv('datafinal',index=False)"
   ]
  },
  {
   "cell_type": "code",
   "execution_count": 10,
   "metadata": {},
   "outputs": [
    {
     "data": {
      "text/html": [
       "<div>\n",
       "<style scoped>\n",
       "    .dataframe tbody tr th:only-of-type {\n",
       "        vertical-align: middle;\n",
       "    }\n",
       "\n",
       "    .dataframe tbody tr th {\n",
       "        vertical-align: top;\n",
       "    }\n",
       "\n",
       "    .dataframe thead th {\n",
       "        text-align: right;\n",
       "    }\n",
       "</style>\n",
       "<table border=\"1\" class=\"dataframe\">\n",
       "  <thead>\n",
       "    <tr style=\"text-align: right;\">\n",
       "      <th></th>\n",
       "      <th>text</th>\n",
       "      <th>tags</th>\n",
       "    </tr>\n",
       "  </thead>\n",
       "  <tbody>\n",
       "    <tr>\n",
       "      <th>0</th>\n",
       "      <td>b'draw stack dotplot r'</td>\n",
       "      <td>r</td>\n",
       "    </tr>\n",
       "    <tr>\n",
       "      <th>1</th>\n",
       "      <td>b'mysql select record datetim field less speci...</td>\n",
       "      <td>php    mysql</td>\n",
       "    </tr>\n",
       "    <tr>\n",
       "      <th>2</th>\n",
       "      <td>b'termin window phone  app'</td>\n",
       "      <td>c#</td>\n",
       "    </tr>\n",
       "    <tr>\n",
       "      <th>3</th>\n",
       "      <td>b'get current time specif countri via jqueri'</td>\n",
       "      <td>javascript    jquery</td>\n",
       "    </tr>\n",
       "    <tr>\n",
       "      <th>4</th>\n",
       "      <td>b'configur tomcat use ssl'</td>\n",
       "      <td>java</td>\n",
       "    </tr>\n",
       "  </tbody>\n",
       "</table>\n",
       "</div>"
      ],
      "text/plain": [
       "                                                text                      tags\n",
       "0                            b'draw stack dotplot r'                       r  \n",
       "1  b'mysql select record datetim field less speci...            php    mysql  \n",
       "2                        b'termin window phone  app'                      c#  \n",
       "3      b'get current time specif countri via jqueri'    javascript    jquery  \n",
       "4                         b'configur tomcat use ssl'                    java  "
      ]
     },
     "execution_count": 10,
     "metadata": {},
     "output_type": "execute_result"
    }
   ],
   "source": [
    "df = pd.read_csv('datafinal')\n",
    "df.head()"
   ]
  },
  {
   "cell_type": "markdown",
   "metadata": {},
   "source": [
    "# Splitting Dataset"
   ]
  },
  {
   "cell_type": "code",
   "execution_count": 11,
   "metadata": {},
   "outputs": [],
   "source": [
    "from sklearn.model_selection import train_test_split\n",
    "x_train,x_test,y_train,y_test=train_test_split(df.text, df.tags, test_size=0.2, random_state=9)"
   ]
  },
  {
   "cell_type": "markdown",
   "metadata": {},
   "source": [
    "# Converting text and tags to vectors"
   ]
  },
  {
   "cell_type": "code",
   "execution_count": 12,
   "metadata": {},
   "outputs": [],
   "source": [
    "# Used ti-idf , bow\n",
    "from sklearn.feature_extraction.text import TfidfVectorizer,CountVectorizer\n",
    "tfvectorizer = TfidfVectorizer(min_df=0.00009, max_features=200000, smooth_idf=True, norm=\"l2\",\n",
    "                             tokenizer = lambda x: x.split(), sublinear_tf=False, ngram_range=(1,3))\n",
    "x_train_multilabel = tfvectorizer.fit_transform(x_train)\n",
    "x_test_multilabel = tfvectorizer.transform(x_test)\n",
    "\n",
    "vectorizer = CountVectorizer(tokenizer = lambda x: x.split(), binary='true')\n",
    "y_train_multilabel = vectorizer.fit_transform(y_train)\n",
    "y_test_multilabel = vectorizer.transform(y_test)"
   ]
  },
  {
   "cell_type": "markdown",
   "metadata": {},
   "source": [
    "# Training using One vs Rest"
   ]
  },
  {
   "cell_type": "code",
   "execution_count": 13,
   "metadata": {},
   "outputs": [
    {
     "name": "stdout",
     "output_type": "stream",
     "text": [
      "accuracy : 0.33075\n",
      "macro f1 score : 0.48876273246938884\n",
      "micro f1 scoore : 0.6397114831568965\n",
      "hamming loss : 0.0115885\n"
     ]
    }
   ],
   "source": [
    "from sklearn.multiclass import OneVsRestClassifier\n",
    "from sklearn.linear_model import SGDClassifier\n",
    "from sklearn import metrics\n",
    "from sklearn.metrics import f1_score,precision_score,recall_score\n",
    "from sklearn import svm\n",
    "from sklearn.linear_model import LogisticRegression\n",
    "from sklearn.naive_bayes import GaussianNB\n",
    "\n",
    "\n",
    "classifier = OneVsRestClassifier(SGDClassifier(loss='log', max_iter = 5, tol = None, alpha=0.00001, penalty='l1'), n_jobs=-1)\n",
    "classifier.fit(x_train_multilabel, y_train_multilabel)\n",
    "predictions = classifier.predict(x_test_multilabel)\n",
    "\n",
    "print(\"accuracy :\",metrics.accuracy_score(y_test_multilabel,predictions))\n",
    "print(\"macro f1 score :\",metrics.f1_score(y_test_multilabel, predictions, average = 'macro'))\n",
    "print(\"micro f1 scoore :\",metrics.f1_score(y_test_multilabel, predictions, average = 'micro'))\n",
    "print(\"hamming loss :\",metrics.hamming_loss(y_test_multilabel,predictions))"
   ]
  },
  {
   "cell_type": "code",
   "execution_count": 14,
   "metadata": {},
   "outputs": [
    {
     "name": "stdout",
     "output_type": "stream",
     "text": [
      "Precision recall report :\n",
      "               precision    recall  f1-score   support\n",
      "\n",
      "           0       0.78      0.48      0.59       327\n",
      "           1       0.62      0.10      0.18        96\n",
      "           2       0.92      0.52      0.66       555\n",
      "           3       0.94      0.72      0.82       294\n",
      "           4       0.71      0.20      0.32        83\n",
      "           5       0.55      0.36      0.44       447\n",
      "           6       0.85      0.41      0.55       950\n",
      "           7       0.71      0.30      0.42       588\n",
      "           8       0.83      0.61      0.70      3763\n",
      "           9       0.89      0.46      0.61      1295\n",
      "          10       0.35      0.06      0.11        96\n",
      "          11       0.14      0.01      0.02       101\n",
      "          12       0.97      0.75      0.85       140\n",
      "          13       0.65      0.21      0.32       359\n",
      "          14       0.74      0.63      0.68        87\n",
      "          15       0.19      0.03      0.05       150\n",
      "          16       0.47      0.18      0.26       132\n",
      "          17       0.47      0.18      0.26       109\n",
      "          18       0.98      0.78      0.87       350\n",
      "          19       0.54      0.19      0.28        74\n",
      "          20       0.92      0.49      0.64       199\n",
      "          21       0.79      0.45      0.57       134\n",
      "          22       0.71      0.44      0.55        95\n",
      "          23       0.90      0.76      0.83        93\n",
      "          24       0.12      0.02      0.03       106\n",
      "          25       0.32      0.11      0.16       158\n",
      "          26       0.18      0.02      0.04        92\n",
      "          27       0.81      0.46      0.59        91\n",
      "          28       0.72      0.55      0.62        89\n",
      "          29       0.93      0.60      0.73       167\n",
      "          30       0.60      0.27      0.37      1073\n",
      "          31       0.21      0.06      0.09       135\n",
      "          32       0.67      0.36      0.47       654\n",
      "          33       0.58      0.21      0.31       390\n",
      "          34       0.94      0.67      0.78      3773\n",
      "          35       0.90      0.73      0.80      3821\n",
      "          36       0.84      0.49      0.62      1501\n",
      "          37       0.96      0.52      0.68       150\n",
      "          38       0.88      0.60      0.71       412\n",
      "          39       0.93      0.42      0.58       157\n",
      "          40       0.88      0.66      0.75       121\n",
      "          41       0.89      0.51      0.65       199\n",
      "          42       0.81      0.24      0.37       158\n",
      "          43       0.52      0.25      0.34       152\n",
      "          44       0.35      0.09      0.14        82\n",
      "          45       0.87      0.38      0.53        87\n",
      "          46       0.95      0.77      0.85        48\n",
      "          47       0.71      0.44      0.54       234\n",
      "          48       0.86      0.47      0.61       618\n",
      "          49       0.80      0.31      0.45      1697\n",
      "          50       0.70      0.33      0.44       252\n",
      "          51       0.96      0.51      0.67       150\n",
      "          52       0.95      0.44      0.61        90\n",
      "          53       0.87      0.56      0.68       865\n",
      "          54       0.33      0.03      0.05        79\n",
      "          55       1.00      0.73      0.84        77\n",
      "          56       0.64      0.27      0.38        86\n",
      "          57       1.00      0.74      0.85        77\n",
      "          58       0.32      0.08      0.13        71\n",
      "          59       0.27      0.07      0.11        92\n",
      "          60       0.94      0.71      0.81      2765\n",
      "          61       0.62      0.32      0.42        63\n",
      "          62       0.95      0.68      0.79      1772\n",
      "          63       0.13      0.01      0.02       153\n",
      "          64       0.91      0.50      0.64        96\n",
      "          65       0.95      0.67      0.78       369\n",
      "          66       0.85      0.64      0.73       282\n",
      "          67       0.80      0.44      0.56       101\n",
      "          68       0.78      0.43      0.56       473\n",
      "          69       0.92      0.66      0.77       668\n",
      "          70       0.30      0.05      0.09       138\n",
      "          71       0.84      0.67      0.75        88\n",
      "          72       0.76      0.44      0.55        85\n",
      "          73       0.54      0.36      0.43        86\n",
      "          74       0.85      0.46      0.60       111\n",
      "          75       0.54      0.30      0.39        82\n",
      "          76       0.82      0.55      0.66       295\n",
      "          77       0.79      0.39      0.52       140\n",
      "          78       0.68      0.16      0.27       291\n",
      "          79       0.54      0.24      0.34       115\n",
      "          80       0.44      0.19      0.27       322\n",
      "          81       0.98      0.64      0.77       299\n",
      "          82       0.90      0.48      0.63       169\n",
      "          83       0.77      0.56      0.65        94\n",
      "          84       0.78      0.58      0.67        84\n",
      "          85       0.55      0.45      0.49        83\n",
      "          86       0.42      0.21      0.28       120\n",
      "          87       0.98      0.40      0.56       412\n",
      "          88       0.50      0.13      0.20       109\n",
      "          89       0.20      0.01      0.02       110\n",
      "          90       1.00      0.68      0.81        59\n",
      "          91       0.65      0.42      0.51       118\n",
      "          92       0.20      0.02      0.03       183\n",
      "          93       0.66      0.26      0.37       300\n",
      "          94       0.97      0.77      0.86        97\n",
      "          95       0.91      0.56      0.69       259\n",
      "          96       0.09      0.01      0.03        68\n",
      "          97       0.58      0.25      0.35        71\n",
      "          98       0.67      0.17      0.27       186\n",
      "          99       0.75      0.50      0.60       253\n",
      "\n",
      "   micro avg       0.85      0.51      0.64     40090\n",
      "   macro avg       0.69      0.39      0.49     40090\n",
      "weighted avg       0.81      0.51      0.62     40090\n",
      " samples avg       0.66      0.55      0.58     40090\n",
      "\n"
     ]
    },
    {
     "name": "stderr",
     "output_type": "stream",
     "text": [
      "/home/dhanush/anaconda3/lib/python3.6/site-packages/sklearn/metrics/classification.py:1143: UndefinedMetricWarning: Precision and F-score are ill-defined and being set to 0.0 in samples with no predicted labels.\n",
      "  'precision', 'predicted', average, warn_for)\n"
     ]
    }
   ],
   "source": [
    "print(\"Precision recall report :\\n\",metrics.classification_report(y_test_multilabel, predictions))"
   ]
  },
  {
   "cell_type": "code",
   "execution_count": 21,
   "metadata": {},
   "outputs": [],
   "source": [
    "import dill\n",
    "model = 'model.sav'\n",
    "tfidf='tfidf.sav'\n",
    "bow='bow.sav'\n",
    "dill.dump(classifier, open(model, 'wb'))\n",
    "dill.dump(tfvectorizer, open(tfidf, 'wb'))\n",
    "dill.dump(vectorizer, open(bow, 'wb'))"
   ]
  },
  {
   "cell_type": "code",
   "execution_count": null,
   "metadata": {},
   "outputs": [],
   "source": []
  }
 ],
 "metadata": {
  "kernelspec": {
   "display_name": "Python 3",
   "language": "python",
   "name": "python3"
  },
  "language_info": {
   "codemirror_mode": {
    "name": "ipython",
    "version": 3
   },
   "file_extension": ".py",
   "mimetype": "text/x-python",
   "name": "python",
   "nbconvert_exporter": "python",
   "pygments_lexer": "ipython3",
   "version": "3.6.10"
  }
 },
 "nbformat": 4,
 "nbformat_minor": 2
}
